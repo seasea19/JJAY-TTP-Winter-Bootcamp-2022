{
  "cells": [
    {
      "cell_type": "markdown",
      "metadata": {
        "id": "view-in-github",
        "colab_type": "text"
      },
      "source": [
        "<a href=\"https://colab.research.google.com/github/seasea19/JJAY-TTP-Winter-Bootcamp-2022/blob/main/Day_1_basics.ipynb\" target=\"_parent\"><img src=\"https://colab.research.google.com/assets/colab-badge.svg\" alt=\"Open In Colab\"/></a>"
      ]
    },
    {
      "cell_type": "markdown",
      "metadata": {
        "id": "_Ssem07q0bHJ"
      },
      "source": [
        "# Hello Python"
      ]
    },
    {
      "cell_type": "code",
      "execution_count": null,
      "metadata": {
        "colab": {
          "base_uri": "https://localhost:8080/"
        },
        "id": "b-5l5QNUjArG",
        "outputId": "5eeed60a-8503-4cb9-fac1-ff94ddacc240"
      },
      "outputs": [
        {
          "name": "stdout",
          "output_type": "stream",
          "text": [
            "Hello There\n"
          ]
        }
      ],
      "source": [
        "print ('Hello There')"
      ]
    },
    {
      "cell_type": "code",
      "execution_count": null,
      "metadata": {
        "id": "MpyZPo2vjI7n"
      },
      "outputs": [],
      "source": [
        "import this"
      ]
    },
    {
      "cell_type": "markdown",
      "metadata": {
        "id": "E3d6L2XH1BWt"
      },
      "source": [
        "# Strings Basics"
      ]
    },
    {
      "cell_type": "code",
      "execution_count": null,
      "metadata": {
        "colab": {
          "base_uri": "https://localhost:8080/"
        },
        "id": "wuf7WD6c1BT7",
        "outputId": "f1c0a68d-fd59-4a2f-8823-dc62abfb5754"
      },
      "outputs": [
        {
          "data": {
            "application/vnd.google.colaboratory.intrinsic+json": {
              "type": "string"
            },
            "text/plain": [
              "'This is a string.'"
            ]
          },
          "execution_count": 40,
          "metadata": {},
          "output_type": "execute_result"
        }
      ],
      "source": [
        "'This is a string.'\n"
      ]
    },
    {
      "cell_type": "code",
      "execution_count": null,
      "metadata": {
        "colab": {
          "base_uri": "https://localhost:8080/"
        },
        "id": "UJtW9-_11BQW",
        "outputId": "39c75e1d-7f96-407d-dc33-1a519d201964"
      },
      "outputs": [
        {
          "data": {
            "text/plain": [
              "17"
            ]
          },
          "execution_count": 41,
          "metadata": {},
          "output_type": "execute_result"
        }
      ],
      "source": [
        "len('This is a string.')"
      ]
    },
    {
      "cell_type": "code",
      "execution_count": null,
      "metadata": {
        "colab": {
          "base_uri": "https://localhost:8080/"
        },
        "id": "4AG3T0gU1BKT",
        "outputId": "71f2cb95-55e2-4b19-9320-cc457d8ccf52"
      },
      "outputs": [
        {
          "data": {
            "text/plain": [
              "17"
            ]
          },
          "execution_count": 42,
          "metadata": {},
          "output_type": "execute_result"
        }
      ],
      "source": [
        "s = 'This is a string.'\n",
        "len ('This is a string.')"
      ]
    },
    {
      "cell_type": "code",
      "execution_count": null,
      "metadata": {
        "colab": {
          "base_uri": "https://localhost:8080/"
        },
        "id": "nb6MalQE3BOx",
        "outputId": "43d0d48f-48bb-4d7d-a86b-6a3241cb1d14"
      },
      "outputs": [
        {
          "data": {
            "text/plain": [
              "14"
            ]
          },
          "execution_count": 43,
          "metadata": {},
          "output_type": "execute_result"
        }
      ],
      "source": [
        "'General Kenobi'\n",
        "g = ('General Kenobi')\n",
        "len ('General Kenobi')\n",
        "len (g)"
      ]
    },
    {
      "cell_type": "code",
      "execution_count": null,
      "metadata": {
        "colab": {
          "base_uri": "https://localhost:8080/"
        },
        "id": "XxknyEVT1BGW",
        "outputId": "be903756-b764-413a-9843-dad9aa7525ae"
      },
      "outputs": [
        {
          "data": {
            "text/plain": [
              "16"
            ]
          },
          "execution_count": 44,
          "metadata": {},
          "output_type": "execute_result"
        }
      ],
      "source": [
        " 'Honesty is something you should have.'\n",
        " m = 'Frank is honest.'\n",
        " len ('Honesty is something you should have.')\n",
        " len (m)"
      ]
    },
    {
      "cell_type": "markdown",
      "metadata": {
        "id": "M6pLTjNx1A5x"
      },
      "source": [
        "## string indexing \n"
      ]
    },
    {
      "cell_type": "code",
      "execution_count": null,
      "metadata": {
        "colab": {
          "base_uri": "https://localhost:8080/"
        },
        "id": "3z-1OsRw1AoV",
        "outputId": "121fca52-1ea0-49c8-e38a-1b65c9f084ce"
      },
      "outputs": [
        {
          "name": "stdout",
          "output_type": "stream",
          "text": [
            "This is a string.\n"
          ]
        }
      ],
      "source": [
        "# print object\n",
        "print (s)"
      ]
    },
    {
      "cell_type": "code",
      "execution_count": null,
      "metadata": {
        "colab": {
          "base_uri": "https://localhost:8080/"
        },
        "id": "vx4DnQv37v_6",
        "outputId": "dfe5e8b4-c115-470c-cb1f-6e804e01de90"
      },
      "outputs": [
        {
          "data": {
            "application/vnd.google.colaboratory.intrinsic+json": {
              "type": "string"
            },
            "text/plain": [
              "'T'"
            ]
          },
          "execution_count": 46,
          "metadata": {},
          "output_type": "execute_result"
        }
      ],
      "source": [
        "# show first element\n",
        "s [0]"
      ]
    },
    {
      "cell_type": "code",
      "execution_count": null,
      "metadata": {
        "colab": {
          "base_uri": "https://localhost:8080/"
        },
        "id": "K3q7Hoks72T2",
        "outputId": "1d78c51f-ad45-41ab-fd9d-04d11571d7fd"
      },
      "outputs": [
        {
          "data": {
            "application/vnd.google.colaboratory.intrinsic+json": {
              "type": "string"
            },
            "text/plain": [
              "'h'"
            ]
          },
          "execution_count": 47,
          "metadata": {},
          "output_type": "execute_result"
        }
      ],
      "source": [
        "# show first element\n",
        "s [1]"
      ]
    },
    {
      "cell_type": "code",
      "execution_count": null,
      "metadata": {
        "colab": {
          "base_uri": "https://localhost:8080/"
        },
        "id": "zpH7-tPD76vV",
        "outputId": "0ec3ac77-673e-4f2f-d151-be6e1aaa273e"
      },
      "outputs": [
        {
          "data": {
            "application/vnd.google.colaboratory.intrinsic+json": {
              "type": "string"
            },
            "text/plain": [
              "' '"
            ]
          },
          "execution_count": 48,
          "metadata": {},
          "output_type": "execute_result"
        }
      ],
      "source": [
        "# show first element\n",
        "s [4]"
      ]
    },
    {
      "cell_type": "markdown",
      "metadata": {
        "id": "thcPPaWeckQk"
      },
      "source": [
        "# Concatenation of the string"
      ]
    },
    {
      "cell_type": "code",
      "execution_count": null,
      "metadata": {
        "colab": {
          "base_uri": "https://localhost:8080/"
        },
        "id": "LOxsBndecvta",
        "outputId": "7fffa168-c652-4812-b64b-22276c86cd71"
      },
      "outputs": [
        {
          "name": "stdout",
          "output_type": "stream",
          "text": [
            "Hello Mark\n",
            "Hello  Mark\n"
          ]
        }
      ],
      "source": [
        "greeting = \"Hello\"\n",
        "name = \" Mark\"\n",
        "print(greeting + name)\n",
        "print(greeting + \" \" + name)"
      ]
    },
    {
      "cell_type": "markdown",
      "metadata": {
        "id": "xxJsuezIdDkb"
      },
      "source": [
        "# Input function"
      ]
    },
    {
      "cell_type": "code",
      "execution_count": null,
      "metadata": {
        "colab": {
          "background_save": true
        },
        "id": "-DADIQfneTFn",
        "outputId": "442de9f3-4780-4023-902a-384f69b9b641"
      },
      "outputs": [
        {
          "name": "stdout",
          "output_type": "stream",
          "text": [
            "Hello Sea\n"
          ]
        }
      ],
      "source": [
        "greeting = \"Hello \"\n",
        "name = input(\" What is your sweet name: \")\n",
        "print(greeting + name)"
      ]
    },
    {
      "cell_type": "code",
      "execution_count": 51,
      "metadata": {
        "id": "oia9A2BLej1p",
        "outputId": "e5475ff2-9a3f-42ee-c901-f526e6e5f6e8",
        "colab": {
          "base_uri": "https://localhost:8080/"
        }
      },
      "outputs": [
        {
          "output_type": "stream",
          "name": "stdout",
          "text": [
            "Where do you live: Queens\n",
            "Hi there, Sea, you look great for a person of 21, and you are from Queens which is excellent\n"
          ]
        }
      ],
      "source": [
        "name = input('What is your name: ')\n",
        "age = input('What is your age: ')\n",
        "city = input('Where do you live: ')\n",
        "\n",
        "print(f'Hi there, {name}, you look great for a person of {age}, and you are from {city} which is excellent')"
      ]
    },
    {
      "cell_type": "code",
      "execution_count": 52,
      "metadata": {
        "id": "fYI_sQS-g_RP",
        "colab": {
          "base_uri": "https://localhost:8080/"
        },
        "outputId": "5ef41f60-bc1b-4b59-dc89-2c5016628620"
      },
      "outputs": [
        {
          "output_type": "stream",
          "name": "stdout",
          "text": [
            "Hi there, Sea, you look great for a person of 21, and you are from Queens which is excellent\n"
          ]
        }
      ],
      "source": [
        "print ('Hi there, {}, you look great for a person of {}, and you are from {} which is excellent'.format(name,age,city))"
      ]
    },
    {
      "cell_type": "code",
      "execution_count": 64,
      "metadata": {
        "id": "aiCmpN2JiFv4",
        "colab": {
          "base_uri": "https://localhost:8080/"
        },
        "outputId": "cd700ab9-05a9-4448-fa6a-5c540390fd61"
      },
      "outputs": [
        {
          "output_type": "stream",
          "name": "stdout",
          "text": [
            "The colors are Red Green Blue\n"
          ]
        }
      ],
      "source": [
        "print(\"The colors are {} {} {}\".format(\"Red\", \"Green\", \"Blue\"))"
      ]
    },
    {
      "cell_type": "code",
      "execution_count": 65,
      "metadata": {
        "id": "Be9Vp3s9iiFq",
        "colab": {
          "base_uri": "https://localhost:8080/"
        },
        "outputId": "3d74cd5d-bda4-44b9-fbb4-04ba7d27a6ae"
      },
      "outputs": [
        {
          "output_type": "stream",
          "name": "stdout",
          "text": [
            "The colors are Red Red Red\n"
          ]
        }
      ],
      "source": [
        "print(\"The colors are {0} {0} {0}\".format(\"Red\", \"Green\", \"Blue\"))"
      ]
    },
    {
      "cell_type": "code",
      "execution_count": 66,
      "metadata": {
        "id": "6dwIme0SlWuU",
        "colab": {
          "base_uri": "https://localhost:8080/"
        },
        "outputId": "e1bd868a-f221-4aa1-d1d6-7c3c1a5d6fd8"
      },
      "outputs": [
        {
          "output_type": "stream",
          "name": "stdout",
          "text": [
            "The colors are Blue Blue Blue\n"
          ]
        }
      ],
      "source": [
        "print(\"The colors are {2} {2} {2}\".format(\"Red\", \"Green\", \"Blue\"))"
      ]
    },
    {
      "cell_type": "code",
      "execution_count": 67,
      "metadata": {
        "id": "Fheoevyglqlr",
        "colab": {
          "base_uri": "https://localhost:8080/"
        },
        "outputId": "f4e439c9-d01e-4a59-97c1-c1a73f528c78"
      },
      "outputs": [
        {
          "output_type": "stream",
          "name": "stdout",
          "text": [
            "The colors are Red Green Blue\n"
          ]
        }
      ],
      "source": [
        "print(\"The colors are {r} {g} {b}\".format(r=\"Red\", g=\"Green\", b=\"Blue\"))"
      ]
    },
    {
      "cell_type": "markdown",
      "metadata": {
        "id": "WwSU1EDqj7dU"
      },
      "source": [
        "# Numbers"
      ]
    },
    {
      "cell_type": "code",
      "execution_count": 54,
      "metadata": {
        "id": "KNLCdjejkCTK",
        "colab": {
          "base_uri": "https://localhost:8080/"
        },
        "outputId": "39eb47d0-4852-4718-b636-2eac7e5e374b"
      },
      "outputs": [
        {
          "output_type": "stream",
          "name": "stdout",
          "text": [
            "14\n"
          ]
        }
      ],
      "source": [
        "a = 14\n",
        "print(a)"
      ]
    },
    {
      "cell_type": "code",
      "execution_count": 55,
      "metadata": {
        "id": "nU9AHPE1kKwx",
        "colab": {
          "base_uri": "https://localhost:8080/"
        },
        "outputId": "43164bec-adff-447d-85ec-d1c3b533f64c"
      },
      "outputs": [
        {
          "output_type": "stream",
          "name": "stdout",
          "text": [
            "4\n"
          ]
        }
      ],
      "source": [
        "b = 4\n",
        "print(b)"
      ]
    },
    {
      "cell_type": "code",
      "execution_count": 56,
      "metadata": {
        "id": "4PjeU9MqkTdk",
        "colab": {
          "base_uri": "https://localhost:8080/"
        },
        "outputId": "025557ad-6f2e-4061-cb1b-caad84bd11cc"
      },
      "outputs": [
        {
          "output_type": "stream",
          "name": "stdout",
          "text": [
            "18\n"
          ]
        }
      ],
      "source": [
        "print(a+b)"
      ]
    },
    {
      "cell_type": "code",
      "execution_count": null,
      "metadata": {
        "colab": {
          "base_uri": "https://localhost:8080/"
        },
        "id": "_o647oQakW24",
        "outputId": "9badc9a4-805b-4a23-cac2-6d3a42585929"
      },
      "outputs": [
        {
          "name": "stdout",
          "output_type": "stream",
          "text": [
            "10\n"
          ]
        }
      ],
      "source": [
        "print(a-b)"
      ]
    },
    {
      "cell_type": "code",
      "execution_count": null,
      "metadata": {
        "colab": {
          "base_uri": "https://localhost:8080/"
        },
        "id": "Z-itDWLxkZEg",
        "outputId": "df67e344-268e-495d-9745-56d2552015b6"
      },
      "outputs": [
        {
          "name": "stdout",
          "output_type": "stream",
          "text": [
            "56\n"
          ]
        }
      ],
      "source": [
        "print(a*b)"
      ]
    },
    {
      "cell_type": "code",
      "execution_count": 68,
      "metadata": {
        "id": "eBsRe2iIkiBX",
        "colab": {
          "base_uri": "https://localhost:8080/"
        },
        "outputId": "1996676e-d10d-4527-95c8-1710e7f5bd48"
      },
      "outputs": [
        {
          "output_type": "stream",
          "name": "stdout",
          "text": [
            "3.5\n"
          ]
        }
      ],
      "source": [
        "print(a/b)"
      ]
    },
    {
      "cell_type": "code",
      "execution_count": 69,
      "metadata": {
        "id": "LnElSPYYk-bE",
        "colab": {
          "base_uri": "https://localhost:8080/"
        },
        "outputId": "cba91de2-7316-4ccf-d6cc-c599039b0c36"
      },
      "outputs": [
        {
          "output_type": "stream",
          "name": "stdout",
          "text": [
            "2\n"
          ]
        }
      ],
      "source": [
        "print(a%b)"
      ]
    },
    {
      "cell_type": "code",
      "execution_count": 70,
      "metadata": {
        "id": "NNMNg6qvlC5M",
        "colab": {
          "base_uri": "https://localhost:8080/"
        },
        "outputId": "9716dcfe-3297-4b3c-e23e-d80a9aafcc3f"
      },
      "outputs": [
        {
          "output_type": "stream",
          "name": "stdout",
          "text": [
            "3\n"
          ]
        }
      ],
      "source": [
        "print(a//b)"
      ]
    },
    {
      "cell_type": "code",
      "execution_count": null,
      "metadata": {
        "id": "JmVNEblclEa-"
      },
      "outputs": [],
      "source": [
        ""
      ]
    }
  ],
  "metadata": {
    "colab": {
      "collapsed_sections": [
        "_Ssem07q0bHJ",
        "E3d6L2XH1BWt",
        "thcPPaWeckQk"
      ],
      "name": "Day 1 basics.ipynb",
      "provenance": [],
      "authorship_tag": "ABX9TyMZPp9soNx19Fr2em+T1b6n",
      "include_colab_link": true
    },
    "kernelspec": {
      "display_name": "Python 3",
      "name": "python3"
    },
    "language_info": {
      "name": "python"
    }
  },
  "nbformat": 4,
  "nbformat_minor": 0
}